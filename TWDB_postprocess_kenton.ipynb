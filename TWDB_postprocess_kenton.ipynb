{
 "cells": [
  {
   "cell_type": "markdown",
   "metadata": {},
   "source": [
    "Set Parameters"
   ]
  },
  {
   "cell_type": "code",
   "execution_count": null,
   "metadata": {},
   "outputs": [],
   "source": [
    "similarity_cutoff = 0.05 "
   ]
  },
  {
   "cell_type": "markdown",
   "metadata": {},
   "source": [
    "Import files "
   ]
  },
  {
   "cell_type": "code",
   "execution_count": null,
   "metadata": {},
   "outputs": [],
   "source": [
    "import xarray as xr "
   ]
  },
  {
   "cell_type": "code",
   "execution_count": null,
   "metadata": {},
   "outputs": [],
   "source": [
    "compound = xr.open_dataset('compound_nicholas_short.nc', chunks={'time': 'auto'})\n",
    "surge = xr.open_dataset('surge_nicholas_short.nc', chunks={'time': 'auto'})\n",
    "#rivers = xr.open_dataset('river_nicholas_short.nc', chunks={'time':'auto'})"
   ]
  },
  {
   "cell_type": "code",
   "execution_count": null,
   "metadata": {},
   "outputs": [],
   "source": [
    "x = compound['x']; y = compound['y'] \n",
    "ele_X_nodes = compound['element']-1 #extract element to global node map (connectivity map)\n",
    "\n",
    "compound_zeta = compound['zeta']\n",
    "surge_zeta = surge['zeta']"
   ]
  },
  {
   "cell_type": "markdown",
   "metadata": {},
   "source": [
    "Calculate Differences"
   ]
  },
  {
   "cell_type": "code",
   "execution_count": null,
   "metadata": {},
   "outputs": [],
   "source": [
    "from numba import vectorize, float64\n",
    "import numpy as np \n",
    "\n",
    "#Need to formalize this logic. \n",
    "@vectorize([float64(float64,float64)])\n",
    "def bathymetric_rel_diff(a: float, b: float) -> float:\n",
    "    \"\"\"\n",
    "    Takes a relative-to-minuend difference between two bathymetries, making optimizations where dry cells are \n",
    "    encountered. Intended to be combined with Numba's vectorize and Xarray's apply_ufunc.                                                                                                                        \n",
    "\n",
    "    Parameters\n",
    "    ----------\n",
    "    a : np.ndarray\n",
    "        Minuend. \n",
    "    b : np.ndarray\n",
    "        Subtrahend. \n",
    "    \n",
    "    Returns\n",
    "    -------\n",
    "    difference : np.float\n",
    "    \n",
    "    Examples\n",
    "    --------\n",
    "    >>> a = [1 nan nan]\n",
    "    >>> b = [1 1 nan]\n",
    "    >>> xr.apply_ufunc(fast_bathymetric_diff_atomic,a,b)\n",
    "    [0 -1 0]\n",
    "    \n",
    "    \"\"\"    \n",
    "    #Case where both are dry \n",
    "    if np.isnan(a) and np.isnan(b): \n",
    "        return 0\n",
    "    \n",
    "    #Double check this behavior. \n",
    "    if np.isnan(a): \n",
    "        return 999 \n",
    "    if np.isnan(b): \n",
    "        b = 0 \n",
    "    \n",
    "    return abs((a-b)/a) \n",
    "\n",
    "compound_surge_similarity = xr.apply_ufunc(bathymetric_rel_diff, compound_zeta, surge_zeta, dask =\"parallelized\")"
   ]
  },
  {
   "cell_type": "markdown",
   "metadata": {},
   "source": [
    "Mesh data"
   ]
  },
  {
   "cell_type": "code",
   "execution_count": null,
   "metadata": {},
   "outputs": [],
   "source": [
    "import geoviews as gv \n",
    "import holoviews as hv \n",
    "from holoviews.operation.datashader import rasterize\n",
    "import datashader as ds\n",
    "\n",
    "times = compound['time']\n",
    "\n",
    "points = gv.operation.project_points(gv.Points((x,y)))\n",
    "\n",
    "tris = ele_X_nodes.to_numpy()\n",
    "\n",
    "def mesh_at_time(time): \n",
    "    depth_points = points.add_dimension('zeta', 0, compound_surge_similarity[time], vdim = True)\n",
    "    return gv.TriMesh((tris, depth_points))\n",
    "\n",
    "meshes_dict = {t:mesh_at_time(t) for t in times}\n",
    "meshes_HoloMap = hv.HoloMap(meshes_dict, kdims=\"times\")\n",
    "\n",
    "tiles = gv.tile_sources.OSM \n",
    "meshes_raster = rasterize(meshes_HoloMap, interpolation='linear', aggregator=ds.mean('zeta')).opts(colorbar=True, color_levels=[0,similarity_cutoff,np.inf], cmap=['#5ebaff','#ff8f20'])\n",
    "plot = tiles * meshes_raster \n",
    "\n",
    "hv.output(plot, holomap='scrubber', fps = 4)\n"
   ]
  }
 ],
 "metadata": {
  "language_info": {
   "name": "python"
  }
 },
 "nbformat": 4,
 "nbformat_minor": 2
}
