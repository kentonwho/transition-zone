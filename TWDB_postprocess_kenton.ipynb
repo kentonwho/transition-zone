{
 "cells": [
  {
   "cell_type": "markdown",
   "metadata": {},
   "source": [
    "Set Parameters"
   ]
  },
  {
   "cell_type": "code",
   "execution_count": null,
   "metadata": {},
   "outputs": [],
   "source": [
    "similarity_cutoff = 0.05 \n",
    "#time_slice = slice(\"2021-09-12 14:00:00\", \"2021-09-12 14:00:00\")\n",
    "time_slice = slice(\"2021-09-12 14:00:00\", \"2021-09-12 22:00:00\")"
   ]
  },
  {
   "cell_type": "markdown",
   "metadata": {},
   "source": [
    "Import files "
   ]
  },
  {
   "cell_type": "code",
   "execution_count": null,
   "metadata": {},
   "outputs": [],
   "source": [
    "import xarray as xr "
   ]
  },
  {
   "cell_type": "code",
   "execution_count": null,
   "metadata": {},
   "outputs": [],
   "source": [
    "compound = xr.open_dataset('compound_nicholas.nc', chunks={'time': 'auto'})\n",
    "surge = xr.open_dataset('surge_nicholas.nc', chunks={'time': 'auto'})\n",
    "rivers = xr.open_dataset('rivers_nicholas.nc', chunks={'time':'auto'})"
   ]
  },
  {
   "cell_type": "code",
   "execution_count": null,
   "metadata": {},
   "outputs": [],
   "source": [
    "x = compound['x']; y = compound['y'] \n",
    "ele_X_nodes = compound['element']-1 #extract element to global node map (connectivity map)\n",
    "\n",
    "compound_zeta = compound['zeta'].sel(time=time_slice)\n",
    "surge_zeta = surge['zeta'].sel(time=time_slice)\n",
    "rivers_zeta = rivers['zeta'].sel(time=time_slice)"
   ]
  },
  {
   "cell_type": "markdown",
   "metadata": {},
   "source": [
    "Calculate Differences, Compute Divergence Metric"
   ]
  },
  {
   "cell_type": "code",
   "execution_count": 14,
   "metadata": {},
   "outputs": [],
   "source": [
    "from numba import vectorize, float64\n",
    "import numpy as np \n",
    "\n",
    "#Need to formalize this logic. \n",
    "@vectorize([float64(float64,float64)])\n",
    "def bathymetric_rel_diff(a: float, b: float) -> float:\n",
    "    \"\"\"\n",
    "    Takes a relative-to-minuend difference between two bathymetries, making optimizations where dry cells are \n",
    "    encountered. Intended to be combined with Numba's vectorize and Xarray's apply_ufunc.                                                                                                                        \n",
    "\n",
    "    Parameters\n",
    "    ----------\n",
    "    a : np.ndarray\n",
    "        Minuend. \n",
    "    b : np.ndarray\n",
    "        Subtrahend. \n",
    "    \n",
    "    Returns\n",
    "    -------\n",
    "    difference : np.float\n",
    "    \n",
    "    Examples\n",
    "    --------\n",
    "    >>> a = [1 nan nan]\n",
    "    >>> b = [1 1 nan]\n",
    "    >>> xr.apply_ufunc(fast_bathymetric_diff_atomic,a,b)\n",
    "    [0 -1 0]\n",
    "    \n",
    "    \"\"\"    \n",
    "    #Case where both are dry \n",
    "    if np.isnan(a) and np.isnan(b): \n",
    "        return 0\n",
    "    \n",
    "    #Double check this behavior. \n",
    "    if np.isnan(a): \n",
    "        return 999 \n",
    "    if np.isnan(b): \n",
    "        b = 0 \n",
    "    \n",
    "    return abs((a-b)/a) \n",
    "\n",
    "#currently, this does not set any nan's, but maybe this is okay with holoviews. \n",
    "compound_surge_difference = xr.apply_ufunc(bathymetric_rel_diff, compound_zeta, surge_zeta, dask =\"parallelized\")\n",
    "river_surge_difference = xr.apply_ufunc(bathymetric_rel_diff, compound_zeta, rivers_zeta, dask='parallelized')\n",
    "\n",
    "compound_surge_difference_max = compound_surge_difference.max(dim=\"time\")\n",
    "river_surge_difference_max = river_surge_difference.max(dim=\"time\")\n",
    "\n",
    "divergence_of_surge_and_rivers = np.minimum(compound_surge_difference_max,river_surge_difference_max) "
   ]
  },
  {
   "cell_type": "markdown",
   "metadata": {},
   "source": [
    "Mesh time series data"
   ]
  },
  {
   "cell_type": "code",
   "execution_count": null,
   "metadata": {},
   "outputs": [],
   "source": [
    "import geoviews as gv \n",
    "import holoviews as hv \n",
    "hv.extension(\"bokeh\")\n",
    "from holoviews import opts\n",
    "from holoviews.operation.datashader import datashade,rasterize\n",
    "import datashader as ds\n",
    "\n",
    "\n",
    "datashade.precompute=True \n",
    "size = dict(width=800, height=600)\n",
    "opts.defaults(\n",
    "    opts.Image(**size), opts.RGB(**size), opts.VectorField(**size))\n",
    "\n",
    "times = compound['time'].sel(time=time_slice).to_numpy() \n",
    "\n",
    "points = gv.operation.project_points(gv.Points((x,y)))\n",
    "\n",
    "tris = ele_X_nodes.to_numpy()\n",
    "\n",
    "def mesh_at_time(timestamp): \n",
    "    depth_points = points.add_dimension('zeta', 0, compound_surge_difference.sel(time=timestamp), vdim = True)\n",
    "    return gv.TriMesh((tris, depth_points))\n",
    "\n",
    "meshes_dict = {t:mesh_at_time(t) for t in times}\n",
    "meshes_HoloMap = hv.HoloMap(meshes_dict, kdims=\"times\")\n",
    "\n",
    "tiles = gv.tile_sources.OSM \n",
    "#figure out how to set the range properly here (using inf not using 3)\n",
    "meshes_raster = rasterize(meshes_HoloMap, interpolation='linear', aggregator=ds.mean('zeta')).opts(colorbar=True, clim=(0.01, 0.1), color_levels=9, clipping_colors={'min': 'transparent', 'max': 'green', 'NaN': 'transparent'})\n",
    "plot = tiles * meshes_raster \n"
   ]
  },
  {
   "cell_type": "code",
   "execution_count": null,
   "metadata": {},
   "outputs": [],
   "source": [
    "hv.output(plot, holomap='scrubber', fps=4)"
   ]
  },
  {
   "cell_type": "markdown",
   "metadata": {},
   "source": [
    "Mesh and plot divergence metric "
   ]
  },
  {
   "cell_type": "code",
   "execution_count": 15,
   "metadata": {},
   "outputs": [
    {
     "data": {
      "application/vnd.jupyter.widget-view+json": {
       "model_id": "a2d5ceab8a2d4138bf308a5aebcc6cf7",
       "version_major": 2,
       "version_minor": 0
      },
      "text/plain": [
       "BokehModel(combine_events=True, render_bundle={'docs_json': {'53f447e0-a0e7-4b82-8bef-87b2636a60b2': {'version…"
      ]
     },
     "metadata": {},
     "output_type": "display_data"
    },
    {
     "name": "stderr",
     "output_type": "stream",
     "text": [
      "Task exception was never retrieved\n",
      "future: <Task finished name='Task-122' coro=<Callback.process_on_change() done, defined at /opt/miniconda3/envs/transition-zone/lib/python3.11/site-packages/holoviews/plotting/bokeh/callbacks.py:328> exception=UnsetValueError(\"figure(id='p1446', ...).inner_height doesn't have a value set\")>\n",
      "Traceback (most recent call last):\n",
      "  File \"/opt/miniconda3/envs/transition-zone/lib/python3.11/site-packages/holoviews/plotting/bokeh/callbacks.py\", line 347, in process_on_change\n",
      "    msg[attr] = self.resolve_attr_spec(path, cb_obj)\n",
      "                ^^^^^^^^^^^^^^^^^^^^^^^^^^^^^^^^^^^^\n",
      "  File \"/opt/miniconda3/envs/transition-zone/lib/python3.11/site-packages/holoviews/plotting/bokeh/callbacks.py\", line 254, in resolve_attr_spec\n",
      "    resolved = getattr(resolved, p, None)\n",
      "               ^^^^^^^^^^^^^^^^^^^^^^^^^^\n",
      "  File \"/opt/miniconda3/envs/transition-zone/lib/python3.11/site-packages/bokeh/core/property/descriptors.py\", line 283, in __get__\n",
      "    raise UnsetValueError(f\"{obj}.{self.name} doesn't have a value set\")\n",
      "bokeh.core.property.descriptors.UnsetValueError: figure(id='p1446', ...).inner_height doesn't have a value set\n",
      "\n",
      "During handling of the above exception, another exception occurred:\n",
      "\n",
      "Traceback (most recent call last):\n",
      "  File \"/opt/miniconda3/envs/transition-zone/lib/python3.11/site-packages/holoviews/plotting/bokeh/callbacks.py\", line 352, in process_on_change\n",
      "    msg[attr] = self.resolve_attr_spec(path, cb_obj)\n",
      "                ^^^^^^^^^^^^^^^^^^^^^^^^^^^^^^^^^^^^\n",
      "  File \"/opt/miniconda3/envs/transition-zone/lib/python3.11/site-packages/holoviews/plotting/bokeh/callbacks.py\", line 254, in resolve_attr_spec\n",
      "    resolved = getattr(resolved, p, None)\n",
      "               ^^^^^^^^^^^^^^^^^^^^^^^^^^\n",
      "  File \"/opt/miniconda3/envs/transition-zone/lib/python3.11/site-packages/bokeh/core/property/descriptors.py\", line 283, in __get__\n",
      "    raise UnsetValueError(f\"{obj}.{self.name} doesn't have a value set\")\n",
      "bokeh.core.property.descriptors.UnsetValueError: figure(id='p1446', ...).inner_height doesn't have a value set\n"
     ]
    }
   ],
   "source": [
    "depth_points = points.add_dimension('zeta', 0, divergence_of_surge_and_rivers, vdim = True)\n",
    "maxmesh = gv.TriMesh((tris, depth_points))\n",
    "maxmesh_raster = rasterize(maxmesh, interpolation='linear', aggregator=ds.max('zeta')).opts(colorbar=True, \n",
    "                                                                                            clim=(0.02, 0.5), \n",
    "                                                                                            color_levels=9, \n",
    "                                                                                            clipping_colors={'min': 'transparent', 'max': 'green', 'NaN': 'transparent'})\n",
    "plot = tiles * maxmesh_raster \n",
    "hv.output(plot)"
   ]
  }
 ],
 "metadata": {
  "kernelspec": {
   "display_name": "transition-zone",
   "language": "python",
   "name": "python3"
  },
  "language_info": {
   "codemirror_mode": {
    "name": "ipython",
    "version": 3
   },
   "file_extension": ".py",
   "mimetype": "text/x-python",
   "name": "python",
   "nbconvert_exporter": "python",
   "pygments_lexer": "ipython3",
   "version": "3.11.6"
  }
 },
 "nbformat": 4,
 "nbformat_minor": 2
}
